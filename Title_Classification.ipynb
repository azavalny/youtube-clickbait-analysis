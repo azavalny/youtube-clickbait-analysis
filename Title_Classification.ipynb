{
  "nbformat": 4,
  "nbformat_minor": 0,
  "metadata": {
    "colab": {
      "name": "Title Classification.ipynb",
      "provenance": [],
      "collapsed_sections": []
    },
    "kernelspec": {
      "name": "python3",
      "display_name": "Python 3"
    },
    "language_info": {
      "name": "python"
    }
  },
  "cells": [
    {
      "cell_type": "code",
      "metadata": {
        "id": "IhIn7z7sTaK6"
      },
      "source": [
        "import tensorflow as tf\n",
        "from tensorflow import keras\n",
        "import tensorflow_hub as hub\n",
        "import numpy as np\n",
        "import pandas as pd"
      ],
      "execution_count": 1,
      "outputs": []
    },
    {
      "cell_type": "code",
      "metadata": {
        "colab": {
          "base_uri": "https://localhost:8080/",
          "height": 205
        },
        "id": "_DoI-iFIdvXa",
        "outputId": "887cc5b0-7ef8-4285-d951-1134efd0b6c6"
      },
      "source": [
        "clickBait = pd.read_csv('/content/drive/MyDrive/DataCollection/clickbait.csv', error_bad_lines=False)\n",
        "notClickBait = pd.read_csv('/content/drive/MyDrive/DataCollection/notClickbait.csv', error_bad_lines=False)\n",
        "\n",
        "clickBait[\"isClickBait\"] = 1\n",
        "notClickBait[\"isClickBait\"] = 0\n",
        "\n",
        "titles = pd.concat([clickBait[[\"isClickBait\",\"Video Title\"]], notClickBait[[\"isClickBait\", \"Video Title\"]]])\n",
        "titles = titles.sample(frac=1, random_state=42)\n",
        "titles.head()"
      ],
      "execution_count": 2,
      "outputs": [
        {
          "output_type": "execute_result",
          "data": {
            "text/html": [
              "<div>\n",
              "<style scoped>\n",
              "    .dataframe tbody tr th:only-of-type {\n",
              "        vertical-align: middle;\n",
              "    }\n",
              "\n",
              "    .dataframe tbody tr th {\n",
              "        vertical-align: top;\n",
              "    }\n",
              "\n",
              "    .dataframe thead th {\n",
              "        text-align: right;\n",
              "    }\n",
              "</style>\n",
              "<table border=\"1\" class=\"dataframe\">\n",
              "  <thead>\n",
              "    <tr style=\"text-align: right;\">\n",
              "      <th></th>\n",
              "      <th>isClickBait</th>\n",
              "      <th>Video Title</th>\n",
              "    </tr>\n",
              "  </thead>\n",
              "  <tbody>\n",
              "    <tr>\n",
              "      <th>95</th>\n",
              "      <td>1</td>\n",
              "      <td>SHE IS PREGNANT!!</td>\n",
              "    </tr>\n",
              "    <tr>\n",
              "      <th>15</th>\n",
              "      <td>1</td>\n",
              "      <td>BRENT AND I PRANK OUR MOM!!</td>\n",
              "    </tr>\n",
              "    <tr>\n",
              "      <th>30</th>\n",
              "      <td>1</td>\n",
              "      <td>kid shoots dad after he takes PS5..</td>\n",
              "    </tr>\n",
              "    <tr>\n",
              "      <th>57</th>\n",
              "      <td>0</td>\n",
              "      <td>DaBaby - Wockesha (Freestyle) [Official Video]</td>\n",
              "    </tr>\n",
              "    <tr>\n",
              "      <th>27</th>\n",
              "      <td>0</td>\n",
              "      <td>Qualifying Highlights  2021 Dutch Grand Prix</td>\n",
              "    </tr>\n",
              "  </tbody>\n",
              "</table>\n",
              "</div>"
            ],
            "text/plain": [
              "    isClickBait                                     Video Title\n",
              "95            1                               SHE IS PREGNANT!!\n",
              "15            1                     BRENT AND I PRANK OUR MOM!!\n",
              "30            1             kid shoots dad after he takes PS5..\n",
              "57            0  DaBaby - Wockesha (Freestyle) [Official Video]\n",
              "27            0    Qualifying Highlights  2021 Dutch Grand Prix"
            ]
          },
          "metadata": {},
          "execution_count": 2
        }
      ]
    },
    {
      "cell_type": "code",
      "metadata": {
        "id": "QlYNYsALg7o3"
      },
      "source": [
        "train = titles[:175]\n",
        "valid = titles[175:190]\n",
        "test = titles[190:]\n",
        "\n",
        "X_train = train[\"Video Title\"]\n",
        "y_train = train[\"isClickBait\"]\n",
        "X_valid = valid[\"Video Title\"]\n",
        "y_valid = valid[\"isClickBait\"]\n",
        "X_test = test[\"Video Title\"]\n",
        "y_test = test[\"isClickBait\"]"
      ],
      "execution_count": 3,
      "outputs": []
    },
    {
      "cell_type": "code",
      "metadata": {
        "id": "1UA7zZ_IaX9b"
      },
      "source": [
        "embedding = \"https://tfhub.dev/google/universal-sentence-encoder/4\"\n",
        "hub_layer = hub.KerasLayer(embedding, input_shape=[], dtype=tf.string, trainable=True)"
      ],
      "execution_count": 4,
      "outputs": []
    },
    {
      "cell_type": "code",
      "metadata": {
        "colab": {
          "base_uri": "https://localhost:8080/"
        },
        "id": "EEA1HxJYbBnr",
        "outputId": "c4c2bb27-fd3b-4a38-dbc5-aba7370d6ef3"
      },
      "source": [
        "model = tf.keras.Sequential([\n",
        "                             hub_layer, #splits sentence into tokens, embeds each token, and combines the embeddings\n",
        "                             tf.keras.layers.Dense(16, activation=\"relu\"),\n",
        "                             tf.keras.layers.Dense(1)\n",
        "])\n",
        "model.summary()"
      ],
      "execution_count": 5,
      "outputs": [
        {
          "output_type": "stream",
          "name": "stdout",
          "text": [
            "Model: \"sequential\"\n",
            "_________________________________________________________________\n",
            "Layer (type)                 Output Shape              Param #   \n",
            "=================================================================\n",
            "keras_layer (KerasLayer)     (None, 512)               256797824 \n",
            "_________________________________________________________________\n",
            "dense (Dense)                (None, 16)                8208      \n",
            "_________________________________________________________________\n",
            "dense_1 (Dense)              (None, 1)                 17        \n",
            "=================================================================\n",
            "Total params: 256,806,049\n",
            "Trainable params: 256,806,049\n",
            "Non-trainable params: 0\n",
            "_________________________________________________________________\n"
          ]
        }
      ]
    },
    {
      "cell_type": "code",
      "metadata": {
        "colab": {
          "base_uri": "https://localhost:8080/"
        },
        "id": "nknwioWUdKVw",
        "outputId": "b1bd557f-dd00-49ed-fab3-527658c06d88"
      },
      "source": [
        "model.compile(optimizer=\"nadam\", loss= tf.keras.losses.BinaryCrossentropy(from_logits=True), metrics=['accuracy'])\n",
        "\n",
        "history = model.fit(X_train, y_train, epochs=20, validation_data=(X_test, y_test), verbose=1)"
      ],
      "execution_count": 6,
      "outputs": [
        {
          "output_type": "stream",
          "name": "stdout",
          "text": [
            "Epoch 1/20\n",
            "6/6 [==============================] - 26s 2s/step - loss: 0.6781 - accuracy: 0.4800 - val_loss: 0.6530 - val_accuracy: 0.5455\n",
            "Epoch 2/20\n",
            "6/6 [==============================] - 9s 2s/step - loss: 0.6060 - accuracy: 0.5086 - val_loss: 0.6116 - val_accuracy: 0.5455\n",
            "Epoch 3/20\n",
            "6/6 [==============================] - 10s 2s/step - loss: 0.5014 - accuracy: 0.7314 - val_loss: 0.5273 - val_accuracy: 0.6364\n",
            "Epoch 4/20\n",
            "6/6 [==============================] - 9s 2s/step - loss: 0.3980 - accuracy: 0.8571 - val_loss: 0.4647 - val_accuracy: 0.8182\n",
            "Epoch 5/20\n",
            "6/6 [==============================] - 9s 2s/step - loss: 0.2929 - accuracy: 0.9200 - val_loss: 0.5050 - val_accuracy: 0.6364\n",
            "Epoch 6/20\n",
            "6/6 [==============================] - 9s 2s/step - loss: 0.2390 - accuracy: 0.9314 - val_loss: 0.3463 - val_accuracy: 0.9091\n",
            "Epoch 7/20\n",
            "6/6 [==============================] - 9s 2s/step - loss: 0.1569 - accuracy: 0.9771 - val_loss: 0.2913 - val_accuracy: 0.9091\n",
            "Epoch 8/20\n",
            "6/6 [==============================] - 9s 2s/step - loss: 0.1198 - accuracy: 0.9886 - val_loss: 0.4415 - val_accuracy: 0.8182\n",
            "Epoch 9/20\n",
            "6/6 [==============================] - 9s 2s/step - loss: 0.1035 - accuracy: 0.9886 - val_loss: 0.2446 - val_accuracy: 0.9091\n",
            "Epoch 10/20\n",
            "6/6 [==============================] - 9s 2s/step - loss: 0.0850 - accuracy: 0.9771 - val_loss: 0.2508 - val_accuracy: 0.9091\n",
            "Epoch 11/20\n",
            "6/6 [==============================] - 9s 2s/step - loss: 0.0735 - accuracy: 0.9829 - val_loss: 0.2251 - val_accuracy: 0.9091\n",
            "Epoch 12/20\n",
            "6/6 [==============================] - 9s 2s/step - loss: 0.0612 - accuracy: 0.9829 - val_loss: 0.2916 - val_accuracy: 0.9091\n",
            "Epoch 13/20\n",
            "6/6 [==============================] - 9s 2s/step - loss: 0.0555 - accuracy: 0.9886 - val_loss: 0.1822 - val_accuracy: 0.9091\n",
            "Epoch 14/20\n",
            "6/6 [==============================] - 9s 2s/step - loss: 0.0506 - accuracy: 0.9886 - val_loss: 0.1890 - val_accuracy: 1.0000\n",
            "Epoch 15/20\n",
            "6/6 [==============================] - 10s 2s/step - loss: 0.0483 - accuracy: 0.9829 - val_loss: 0.3021 - val_accuracy: 0.9091\n",
            "Epoch 16/20\n",
            "6/6 [==============================] - 9s 2s/step - loss: 0.0441 - accuracy: 0.9829 - val_loss: 0.1869 - val_accuracy: 0.9091\n",
            "Epoch 17/20\n",
            "6/6 [==============================] - 9s 2s/step - loss: 0.0429 - accuracy: 0.9886 - val_loss: 0.1889 - val_accuracy: 0.9091\n",
            "Epoch 18/20\n",
            "6/6 [==============================] - 9s 2s/step - loss: 0.0387 - accuracy: 0.9886 - val_loss: 0.1764 - val_accuracy: 0.9091\n",
            "Epoch 19/20\n",
            "6/6 [==============================] - 9s 2s/step - loss: 0.0395 - accuracy: 0.9829 - val_loss: 0.1738 - val_accuracy: 0.9091\n",
            "Epoch 20/20\n",
            "6/6 [==============================] - 9s 2s/step - loss: 0.0344 - accuracy: 0.9886 - val_loss: 0.2690 - val_accuracy: 0.9091\n"
          ]
        }
      ]
    },
    {
      "cell_type": "code",
      "metadata": {
        "colab": {
          "base_uri": "https://localhost:8080/"
        },
        "id": "3-K3U9hNp4Rs",
        "outputId": "78fb6ecb-fb23-4980-cece-a7faf46803b7"
      },
      "source": [
        "results = model.evaluate(X_test, y_test, verbose=2)\n",
        "\n",
        "for name, value in zip(model.metrics_names, results):\n",
        "  print(\"%s: %.3f\" % (name, value))"
      ],
      "execution_count": 7,
      "outputs": [
        {
          "output_type": "stream",
          "name": "stdout",
          "text": [
            "1/1 - 0s - loss: 0.2690 - accuracy: 0.9091\n",
            "loss: 0.269\n",
            "accuracy: 0.909\n"
          ]
        }
      ]
    },
    {
      "cell_type": "code",
      "metadata": {
        "colab": {
          "base_uri": "https://localhost:8080/",
          "height": 283
        },
        "id": "FdmZmBHTiQNH",
        "outputId": "73d06e3b-ecc2-46b4-962e-90d9f31bd198"
      },
      "source": [
        "import matplotlib.pyplot as plt\n",
        "from matplotlib.ticker import MaxNLocator\n",
        "\n",
        "def plot_learning_curves(loss, val_loss):\n",
        "    plt.plot(np.arange(len(loss)) + 0.5, loss, \"b.-\", label=\"Training loss\")\n",
        "    plt.plot(np.arange(len(val_loss)) + 1, val_loss, \"r.-\", label=\"Validation loss\")\n",
        "    plt.axis([1, 20, 0, 0.9]) #Tweak these axis params to adjust the view!!!\n",
        "    plt.legend(fontsize=14)\n",
        "    plt.xlabel(\"Epochs\")\n",
        "    plt.ylabel(\"Loss\")\n",
        "    plt.grid(True)\n",
        "\n",
        "plot_learning_curves(history.history[\"loss\"], history.history[\"val_loss\"])\n",
        "plt.show()"
      ],
      "execution_count": 8,
      "outputs": [
        {
          "output_type": "display_data",
          "data": {
            "image/png": "[encoded data removed]",
            "text/plain": [
              "<Figure size 432x288 with 1 Axes>"
            ]
          },
          "metadata": {
            "needs_background": "light"
          }
        }
      ]
    },
    {
      "cell_type": "code",
      "metadata": {
        "colab": {
          "base_uri": "https://localhost:8080/"
        },
        "id": "YpPdkzwAz0QU",
        "outputId": "995981ac-64f3-4d09-e269-14cbdad1828e"
      },
      "source": [
        "model.save('title_classifier.sav')"
      ],
      "execution_count": 9,
      "outputs": [
        {
          "output_type": "stream",
          "name": "stdout",
          "text": [
            "INFO:tensorflow:Assets written to: title_classifier.sav/assets\n"
          ]
        },
        {
          "output_type": "stream",
          "name": "stderr",
          "text": [
            "INFO:tensorflow:Assets written to: title_classifier.sav/assets\n"
          ]
        }
      ]
    },
    {
      "cell_type": "code",
      "metadata": {
        "colab": {
          "base_uri": "https://localhost:8080/"
        },
        "id": "ElxH5xvZ9hTS",
        "outputId": "bfdd6aff-f5d9-4337-8828-dc6d2764618f"
      },
      "source": [
        "!zip -r /content/title_classifier.zip /content/title_classifier/"
      ],
      "execution_count": 11,
      "outputs": [
        {
          "output_type": "stream",
          "name": "stdout",
          "text": [
            "  adding: content/title_classifier/ (stored 0%)\n",
            "  adding: content/title_classifier/saved_model.pb (deflated 69%)\n",
            "  adding: content/title_classifier/assets/ (stored 0%)\n",
            "  adding: content/title_classifier/variables/ (stored 0%)\n",
            "  adding: content/title_classifier/variables/variables.data-00000-of-00001 (deflated 69%)\n",
            "  adding: content/title_classifier/variables/variables.index (deflated 83%)\n",
            "  adding: content/title_classifier/keras_metadata.pb (deflated 84%)\n"
          ]
        }
      ]
    },
    {
      "cell_type": "code",
      "metadata": {
        "colab": {
          "base_uri": "https://localhost:8080/",
          "height": 17
        },
        "id": "UtjzXUKZM-TP",
        "outputId": "c62bdacd-da09-4090-f600-b13396399a68"
      },
      "source": [
        "from google.colab import files\n",
        "files.download(\"/content/title_classifier.zip\")"
      ],
      "execution_count": 12,
      "outputs": [
        {
          "output_type": "display_data",
          "data": {
            "application/javascript": [
              "\n",
              "    async function download(id, filename, size) {\n",
              "      if (!google.colab.kernel.accessAllowed) {\n",
              "        return;\n",
              "      }\n",
              "      const div = document.createElement('div');\n",
              "      const label = document.createElement('label');\n",
              "      label.textContent = `Downloading \"${filename}\": `;\n",
              "      div.appendChild(label);\n",
              "      const progress = document.createElement('progress');\n",
              "      progress.max = size;\n",
              "      div.appendChild(progress);\n",
              "      document.body.appendChild(div);\n",
              "\n",
              "      const buffers = [];\n",
              "      let downloaded = 0;\n",
              "\n",
              "      const channel = await google.colab.kernel.comms.open(id);\n",
              "      // Send a message to notify the kernel that we're ready.\n",
              "      channel.send({})\n",
              "\n",
              "      for await (const message of channel.messages) {\n",
              "        // Send a message to notify the kernel that we're ready.\n",
              "        channel.send({})\n",
              "        if (message.buffers) {\n",
              "          for (const buffer of message.buffers) {\n",
              "            buffers.push(buffer);\n",
              "            downloaded += buffer.byteLength;\n",
              "            progress.value = downloaded;\n",
              "          }\n",
              "        }\n",
              "      }\n",
              "      const blob = new Blob(buffers, {type: 'application/binary'});\n",
              "      const a = document.createElement('a');\n",
              "      a.href = window.URL.createObjectURL(blob);\n",
              "      a.download = filename;\n",
              "      div.appendChild(a);\n",
              "      a.click();\n",
              "      div.remove();\n",
              "    }\n",
              "  "
            ],
            "text/plain": [
              "<IPython.core.display.Javascript object>"
            ]
          },
          "metadata": {}
        },
        {
          "output_type": "display_data",
          "data": {
            "application/javascript": [
              "download(\"download_97ec472e-390a-4352-9484-c532401d329c\", \"title_classifier.zip\", 970945918)"
            ],
            "text/plain": [
              "<IPython.core.display.Javascript object>"
            ]
          },
          "metadata": {}
        }
      ]
    }
  ]
}